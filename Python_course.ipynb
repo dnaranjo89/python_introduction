{
 "cells": [
  {
   "cell_type": "markdown",
   "metadata": {
    "nbpresent": {
     "id": "f5bd52dd-eaa5-4bc7-aaea-5609e6bf7eee"
    }
   },
   "source": [
    "#### What's programming?\n",
    "https://automatetheboringstuff.com\n",
    "\n",
    "https://www.youtube.com/playlist?list=PL0-84-yl1fUnRuXGFe_F7qSH1LEnn9LkW"
   ]
  },
  {
   "cell_type": "code",
   "execution_count": 14,
   "metadata": {
    "collapsed": false,
    "nbpresent": {
     "id": "5f27a71e-552b-4e39-9b96-45e394156278"
    }
   },
   "outputs": [
    {
     "name": "stdout",
     "output_type": "stream",
     "text": [
      "Hi Miami!\n",
      "Edinburgh\n",
      "Hi Edinburgh\n",
      "500\n",
      "600.0\n",
      "The price is 600.0\n",
      "660.0\n",
      "660.0\n",
      "The total price is 660.0\n"
     ]
    }
   ],
   "source": [
    "# 1. Hello world\n",
    "print(\"Hi Miami!\")\n",
    "\n",
    "# 2. Using variables (Strings)\n",
    "# Variables are containers that can store values inside\n",
    "city = \"Edinburgh\"\n",
    "print(city)\n",
    "print(\"Hi\", city)\n",
    "\n",
    "# 3. Numbers\n",
    "price = 500\n",
    "print(price)\n",
    "\n",
    "price = 600.0\n",
    "#When a variable is assigned a new value, the old value is forgotten\n",
    "print(price)\n",
    "print(\"The price is\", price)\n",
    "\n",
    "# 4. Arithmetic operations\n",
    "# Math opeartors: https://automatetheboringstuff.com/chapter1/#calibre_link-1949\n",
    "fee = price * 0.1\n",
    "total = price + fee\n",
    "print(total)\n",
    "\n",
    "print(total)\n",
    "print(\"The total price is\", total)"
   ]
  },
  {
   "cell_type": "code",
   "execution_count": 15,
   "metadata": {
    "collapsed": false,
    "nbpresent": {
     "id": "ea15fa8a-f3df-4a59-8ec2-35380dc65d64"
    }
   },
   "outputs": [
    {
     "name": "stdout",
     "output_type": "stream",
     "text": [
      "The revenue is too low\n"
     ]
    }
   ],
   "source": [
    "# Sometimes you want to make decisions based on the values of the variables.\n",
    "\n",
    "# ***** Conditions *****\n",
    "if total < 5000:\n",
    "    print(\"The revenue is too low\")\n",
    "else:\n",
    "    print(\"You are doing well!\")\n",
    "    \n",
    "    \n",
    "# Comparison operators\n",
    "# https://automatetheboringstuff.com/chapter2/#calibre_link-2032"
   ]
  },
  {
   "cell_type": "code",
   "execution_count": 16,
   "metadata": {
    "collapsed": false,
    "nbpresent": {
     "id": "7ee66d8f-83b2-45ee-b907-f0d0c435d6f5"
    }
   },
   "outputs": [
    {
     "name": "stdout",
     "output_type": "stream",
     "text": [
      "Hello Miami!\n",
      "Hello Miami!\n",
      "550.0\n",
      "1100.0\n"
     ]
    }
   ],
   "source": [
    "# What's a function?\n",
    "# It's a block of reusable code that performs an action\n",
    "# A function is declared with the \"def\" keyword\n",
    "\n",
    "def greet():\n",
    "    print(\"Hello Miami!\")\n",
    "\n",
    "greet()\n",
    "greet()\n",
    "    \n",
    "# A function may accept parameters and it may return a value    \n",
    "    \n",
    "def apply_fee(amount):\n",
    "    # Apply 10% commision\n",
    "    total_amount = amount * 1.1\n",
    "    return total_amount\n",
    "    \n",
    "price = 500\n",
    "final_price = apply_fee(price)\n",
    "print(final_price)\n",
    "\n",
    "\n",
    "final_price = apply_fee(1000)\n",
    "print(final_price)\n",
    "\n",
    "# Sometimes you write a bunch of handy functions that you rehuse often. \n",
    "# When you do that, you can just save them in a file and use them from anywhere using import\n",
    "# These kind of files are called modules or libraries, and there are tons of them out there\n",
    "\n",
    "# import csv\n",
    "# import pandas\n",
    "# import plotly"
   ]
  },
  {
   "cell_type": "code",
   "execution_count": 17,
   "metadata": {
    "collapsed": false,
    "nbpresent": {
     "id": "f623d0c5-d06a-4344-a30e-acd53f72f2cf"
    }
   },
   "outputs": [
    {
     "name": "stdout",
     "output_type": "stream",
     "text": [
      "['january', 'february', 'march']\n",
      "['january', 'february', 'march', 'april']\n",
      "march\n",
      "['january', 'february', 'april']\n",
      "------------\n",
      "Iterating over the list: january\n",
      "Iterating over the list: february\n",
      "Iterating over the list: april\n",
      "3\n"
     ]
    }
   ],
   "source": [
    "# We've seen variables can contain strings, integers, floats... \n",
    "# but they can be also contain more complex structures like lists or dictionaries.\n",
    "\n",
    "# So, what's a list?\n",
    "# A list contains multiple values in an ordered sequence\n",
    "\n",
    "# ***** Lists *****\n",
    "\n",
    "months = []\n",
    "months = [\"january\", \"february\", \"march\"]\n",
    "print(months)\n",
    "\n",
    "# 1. Add items to the list\n",
    "months.append(\"april\")\n",
    "print(months)\n",
    "\n",
    "# 2. Access items from the list\n",
    "print(months[2])\n",
    "\n",
    "# 3. Delete items from the list\n",
    "months.remove(\"march\")\n",
    "print(months)\n",
    "\n",
    "# 4. Iterate over the list\n",
    "print(\"------------\")\n",
    "for month in months:\n",
    "    print(\"Iterating over the list:\", month)\n",
    "    \n",
    "# 5. Check the lenght of the list\n",
    "number_of_months = len(months)\n",
    "print(number_of_months)"
   ]
  },
  {
   "cell_type": "code",
   "execution_count": 18,
   "metadata": {
    "collapsed": false,
    "nbpresent": {
     "id": "04f1a9f2-1050-4ad9-adec-95c426814d28"
    }
   },
   "outputs": [
    {
     "name": "stdout",
     "output_type": "stream",
     "text": [
      "132\n",
      "The revenue in January was 345\n",
      "The revenue in february was 233\n",
      "The revenue in april was 412\n",
      "The revenue in january was 345\n"
     ]
    }
   ],
   "source": [
    "# Similarly to a list a dictionary is a collection of values,\n",
    "# but in a dict values are accessed by key rather than by index\n",
    "# let's see an example\n",
    "\n",
    "# ***** Dictionaries *****\n",
    "monthly_revenue = {}\n",
    "monthly_revenue = {\n",
    "    \"january\": 345,\n",
    "    \"february\": 233,\n",
    "    \"march\": 132,\n",
    "}\n",
    "\n",
    "# 1. Access items from the dictionary\n",
    "print(monthly_revenue[\"march\"])\n",
    "print(\"The revenue in January was\", monthly_revenue[\"january\"])\n",
    "\n",
    "# 2. Add an item to the dictionary\n",
    "monthly_revenue[\"april\"] = 412\n",
    "\n",
    "# 3. Delete an item form the dictionary\n",
    "del(monthly_revenue[\"march\"])\n",
    "\n",
    "# 4. Iterate over the dictionary\n",
    "for month_name, revenue in monthly_revenue.items():\n",
    "    print(\"The revenue in\", month_name, \"was\", revenue)"
   ]
  },
  {
   "cell_type": "code",
   "execution_count": 19,
   "metadata": {
    "collapsed": false,
    "nbpresent": {
     "id": "486dee64-4ac6-4c60-bcbb-d310412338e3"
    }
   },
   "outputs": [
    {
     "name": "stdout",
     "output_type": "stream",
     "text": [
      "0\n",
      "1\n",
      "2\n",
      "3\n",
      "4\n"
     ]
    }
   ],
   "source": [
    "# Add some more examples about loops: while, for x in range(10)....\n",
    "for x in range(5):\n",
    "    print(x)\n"
   ]
  },
  {
   "cell_type": "markdown",
   "metadata": {},
   "source": [
    "#### Excersices\n",
    "1. Store in a variable called _sessions_ any random number you think of and print it with a nice message\n",
    "- Print a possitive message when the variable _sessions_ is greater than 500, otherwise print your disapointment out!\n",
    "- Create a dictionary which stores the amount of sessions for every day in a week (day names are keys, and the amount of sessions values)\n",
    "\n",
    "\n",
    "* Bonus question: Would you be able to calculate the total amount of sessions in the week?"
   ]
  }
 ],
 "metadata": {
  "anaconda-cloud": {},
  "kernelspec": {
   "display_name": "Python [default]",
   "language": "python",
   "name": "python3"
  },
  "language_info": {
   "codemirror_mode": {
    "name": "ipython",
    "version": 3
   },
   "file_extension": ".py",
   "mimetype": "text/x-python",
   "name": "python",
   "nbconvert_exporter": "python",
   "pygments_lexer": "ipython3",
   "version": "3.5.2"
  },
  "nbpresent": {
   "slides": {},
   "themes": {}
  }
 },
 "nbformat": 4,
 "nbformat_minor": 1
}
